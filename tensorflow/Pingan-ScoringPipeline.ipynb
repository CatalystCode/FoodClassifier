{
 "cells": [
  {
   "cell_type": "markdown",
   "metadata": {},
   "source": [
    "## Operationalization of Transfer Learning using Tensorflow in Azure ML"
   ]
  },
  {
   "cell_type": "markdown",
   "metadata": {},
   "source": [
    "Azure ML studio is used to publish the trained model as Web serivces, which is connected with the IOS app using the URL and API key.\n",
    "\n",
    "Requirements: \n",
    "* Zip tensorflow package, google package and the trained model into one zip file\n",
    "* Upload it into AML as an input dataset (FoodClassifyModel.zip)\n"
   ]
  },
  {
   "cell_type": "markdown",
   "metadata": {},
   "source": [
    "## AML experiment"
   ]
  },
  {
   "cell_type": "markdown",
   "metadata": {},
   "source": [
    "### flowchart"
   ]
  },
  {
   "cell_type": "code",
   "execution_count": 5,
   "metadata": {},
   "outputs": [
    {
     "data": {
      "image/png": "[encoded data removed]",
      "text/plain": [
       "<IPython.core.display.Image object>"
      ]
     },
     "execution_count": 5,
     "metadata": {
      "image/png": {
       "height": 500,
       "width": 600
      }
     },
     "output_type": "execute_result"
    }
   ],
   "source": [
    "from IPython.display import Image\n",
    "Image('AMLexperiement.png', width = 600, height = 500)"
   ]
  },
  {
   "cell_type": "markdown",
   "metadata": {},
   "source": [
    "### Execute Python Script\n",
    "* Put the following code inside the Execute Python Script Model\n",
    "* Enter Data Mannually provides the URL of the test image."
   ]
  },
  {
   "cell_type": "code",
   "execution_count": null,
   "metadata": {
    "collapsed": true
   },
   "outputs": [],
   "source": [
    "import os\n",
    "import time\n",
    "import random\n",
    "import pandas as pd\n",
    "import numpy as np\n",
    "import sys\n",
    "import tensorflow as tf\n",
    "import urllib.request\n",
    "from datetime import timedelta\n",
    "import matplotlib.pyplot as plt\n",
    "from IPython.display import display, Image\n",
    "from scipy import ndimage\n",
    "from PIL import Image\n",
    "from six.moves import cPickle as pickle\n",
    "from six.moves import range\n",
    "\n",
    "def resize_image(image_file, width, height):\n",
    "    try:\n",
    "        pixel_depth = 255.0\n",
    "        image = Image.open(image_file)\n",
    "        # convert non-RGB image to RGB\n",
    "        if image.mode == 'CMYK':\n",
    "            print('Converting image %s from CMYK to RGB'%image_file)\n",
    "            image = image.convert('RGB')\n",
    "        im2 = image.resize((width, height),Image.ANTIALIAS)\n",
    "        im2 = np.array(im2.getdata(), np.uint8).reshape(im2.size[1],im2.size[0],3)\n",
    "    except:\n",
    "      print(\"Resizing failed on file %s\"%image_file)\n",
    "    return im2\n",
    "\n",
    "def load_resize_images(root_dir, folder, width, height):\n",
    "    pixel_depth = 255.0\n",
    "    folder = os.path.join(root_dir, folder)\n",
    "    image_files = os.listdir(folder) # image file path\n",
    "    dataset = np.ndarray(shape=(len(image_files), height, width, 3),\n",
    "                         dtype=np.float16)\n",
    "    num_images = 0\n",
    "    for image in image_files:\n",
    "        image_file = os.path.join(folder, image)\n",
    "        filename, file_extension = os.path.splitext(image_file)\n",
    "        if file_extension in [\".jpg\", \".JPG\", \".jpeg\"]:\n",
    "            try:\n",
    "                image_data = (np.array(Image.open(image_file)).astype(float) - \n",
    "                    pixel_depth / 2) / pixel_depth # get image data\n",
    "                if len(image_data.shape) == 3:\n",
    "                    if image_data.shape[2] < 3: # skip greyscale images\n",
    "                        print(\"Image file %s has %d channels, skipping\"%(image_file, image_data.shape[2]))\n",
    "                    elif image_data.shape[0] < width or image_data.shape[1] < height: # skip too small size images\n",
    "                        print(\"Image file %s is too small, skipping\"%image_file)\n",
    "                    else:\n",
    "                        try:\n",
    "                            image_data = resize_image(image_file, width, height)\n",
    "                            dataset[num_images, :, :, :] = image_data\n",
    "                            num_images = num_images + 1\n",
    "                        except:\n",
    "                            print(\"Could not resize %s, skipping\"%image_file)\n",
    "                else:\n",
    "                    print(\"Image file %s only has %d dimensions, skipping\"%(image_file, len(image_data.shape)))\n",
    "            except IOError as e:\n",
    "                print('Could not read:', image_file, ':', e, '- it\\'s ok, skipping.')\n",
    "        else:\n",
    "            print(\"Image file %s is not a jpg file, skipping\"%image_file)\n",
    "            \n",
    "    dataset = dataset[0:num_images, :, :, :]\n",
    "    print(\"%d images in folder %s are added into the pickle file\"%(num_images, folder))\n",
    "    print('Full dataset tensor:', dataset.shape)\n",
    "    print('Mean:', np.mean(dataset))\n",
    "    print('Standard deviation:', np.std(dataset))\n",
    "    return dataset        \n",
    "        \n",
    "def maybe_pickle(root_dir, folder, width, height, force=False):\n",
    "    dataset_names = []\n",
    "    set_filename = folder + '.pickle'\n",
    "    set_filename = os.path.join(root_dir, set_filename)\n",
    "    dataset_names.append(set_filename)\n",
    "    if os.path.exists(set_filename) and not force:\n",
    "        print('%s already present - Skipping pickling.' % set_filename)\n",
    "    else:\n",
    "        print('Pickling %s.' % set_filename)\n",
    "\n",
    "        dataset = load_resize_images(root_dir, folder, width, height)\n",
    "        try:\n",
    "            with open(set_filename, 'wb') as f:\n",
    "                pickle.dump(dataset, f, pickle.HIGHEST_PROTOCOL)\n",
    "        except Exception as e:\n",
    "            print('Unable to save data to', set_filename, ':', e)\n",
    "  \n",
    "    return dataset_names\n",
    "    \n",
    "def reformat(dataset,width, height, num_channels, num_labels):\n",
    "    dataset = dataset.reshape(\n",
    "        (-1, height, width, num_channels)).astype(np.float32)\n",
    "    return dataset\n",
    "\n",
    "def accuracy(predictions, labels):\n",
    "  return (100.0 * np.sum(np.argmax(predictions, 1) == np.argmax(labels, 1))/predictions.shape[0])\n",
    "\n",
    "def azureml_main(dataframe1 = None, dataframe2 = None):\n",
    "    \n",
    "    # download and preprocess the test image\n",
    "    URL = str(dataframe1['imageURL'][0])\n",
    "    if not os.path.exists('score'):\n",
    "        os.mkdir('score')\n",
    "    urllib.request.urlretrieve(URL, \"./score/image.jpg\") #the downloaded images are stored under \"C:\\\\temp\"\n",
    "    \n",
    "    image_dirs = ['score']\n",
    "    width = 128\n",
    "    height = 128\n",
    "    num_labels = 5\n",
    "    num_channels = 3 \n",
    "    \n",
    "    dataset_names = maybe_pickle(\"C:\\\\temp\", image_dirs[0], width, height)\n",
    "    print (dataset_names)\n",
    "\n",
    "    data_root = 'C:\\\\temp\\\\Script Bundle' \n",
    "    pickle_file =\"C:\\\\temp\\\\score.pickle\"\n",
    "    \n",
    "    with open(pickle_file, 'rb') as f:\n",
    "        save = pickle.load(f)\n",
    "        test_dataset = save\n",
    "        del save  # hint to help gc free up memory\n",
    "        print('Testing set', test_dataset.shape)\n",
    "    \n",
    "    test_dataset = reformat(test_dataset, height, width, num_channels, num_labels)\n",
    "    print('Test set', test_dataset.shape)\n",
    "    \n",
    "    # pass the image through inception model\n",
    "    import inception\n",
    "    inception.maybe_download() # download incpetion model\n",
    "    model = inception.Inception() # load the Inception model\n",
    "\n",
    "    from inception import transfer_values_cache\n",
    "    \n",
    "    file_path_cache_test = os.path.join(data_root, 'inception_test.pkl')\n",
    "    \n",
    "    print(\"Processing Inception transfer-values for test-images ...\")\n",
    "    transfer_values_test = transfer_values_cache(cache_path=file_path_cache_test,\n",
    "                                                images=test_dataset,\n",
    "                                                model=model)\n",
    "    print (transfer_values_test.shape)\n",
    "    \n",
    "    # pass the transfer values from inception model to the saved tensorflow model\n",
    "    print (\"Load Tensorflow Model ...\")\n",
    "    sess=tf.Session()\n",
    "    saver = tf.train.import_meta_graph(os.path.join(data_root,'model\\\\model.meta'))\n",
    "    saver.restore(sess,tf.train.latest_checkpoint(os.path.join(data_root,'model\\\\')))\n",
    "    \n",
    "    graph = tf.get_default_graph()\n",
    "    x = graph.get_tensor_by_name(\"x:0\") \n",
    "    op_to_restore = graph.get_tensor_by_name(\"restore_model:0\")\n",
    "    feed_dict = {x : transfer_values_test}\n",
    "    output = np.argmax(sess.run(op_to_restore, feed_dict),1)\n",
    "    print (np.argmax(sess.run(op_to_restore, feed_dict),1))\n",
    "    \n",
    "    # generate output label\n",
    "    output_labels = pd.DataFrame(output)\n",
    "    output_labels.columns = ['label']\n",
    "    dish_dict = {0:'Chaomian', 1: 'Kung Po Chicken', 2: 'Roujiamo', 3:'Burger', 4:'Sweet And Sour Pork'}\n",
    "    label = []\n",
    "    for i in output_labels['label']:\n",
    "        label.append(dish_dict[int(i)])\n",
    "    label = pd.DataFrame(label)\n",
    "    \n",
    "    # clean the local folder\n",
    "    os.remove(pickle_file) # remove the pickle file \n",
    "    os.remove(file_path_cache_test) # remove the inception intermediate file\n",
    "    \n",
    "    return label,\n"
   ]
  }
 ],
 "metadata": {
  "kernelspec": {
   "display_name": "Python 3",
   "language": "python",
   "name": "python3"
  },
  "language_info": {
   "codemirror_mode": {
    "name": "ipython",
    "version": 3
   },
   "file_extension": ".py",
   "mimetype": "text/x-python",
   "name": "python",
   "nbconvert_exporter": "python",
   "pygments_lexer": "ipython3",
   "version": "3.6.1"
  }
 },
 "nbformat": 4,
 "nbformat_minor": 2
}
